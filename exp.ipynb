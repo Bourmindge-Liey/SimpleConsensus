{
 "cells": [
  {
   "cell_type": "markdown",
   "id": "3f6ccc14",
   "metadata": {},
   "source": [
    "# Consensus Simulation"
   ]
  },
  {
   "cell_type": "code",
   "execution_count": 1,
   "id": "6f681240",
   "metadata": {},
   "outputs": [],
   "source": [
    "from graph import *"
   ]
  },
  {
   "cell_type": "code",
   "execution_count": 9,
   "id": "fe01cf51",
   "metadata": {},
   "outputs": [
    {
     "name": "stdout",
     "output_type": "stream",
     "text": [
      "Undirected Graph:\n"
     ]
    },
    {
     "ename": "AttributeError",
     "evalue": "'DiGraph' object has no attribute 'get_nodes'",
     "output_type": "error",
     "traceback": [
      "\u001b[31m---------------------------------------------------------------------------\u001b[39m",
      "\u001b[31mAttributeError\u001b[39m                            Traceback (most recent call last)",
      "\u001b[36mCell\u001b[39m\u001b[36m \u001b[39m\u001b[32mIn[9]\u001b[39m\u001b[32m, line 10\u001b[39m\n\u001b[32m      8\u001b[39m G_undir = DiGraph(V, E, A)\n\u001b[32m      9\u001b[39m \u001b[38;5;28mprint\u001b[39m(\u001b[33m\"\u001b[39m\u001b[33mUndirected Graph:\u001b[39m\u001b[33m\"\u001b[39m)\n\u001b[32m---> \u001b[39m\u001b[32m10\u001b[39m \u001b[38;5;28mprint\u001b[39m(\u001b[33m\"\u001b[39m\u001b[33mNodes:\u001b[39m\u001b[33m\"\u001b[39m, \u001b[43mG_undir\u001b[49m\u001b[43m.\u001b[49m\u001b[43mgraph\u001b[49m\u001b[43m.\u001b[49m\u001b[43mget_nodes\u001b[49m())\n\u001b[32m     11\u001b[39m \u001b[38;5;28mprint\u001b[39m(\u001b[33m\"\u001b[39m\u001b[33mEdges:\u001b[39m\u001b[33m\"\u001b[39m, G_undir.graph.get_edges())\n\u001b[32m     12\u001b[39m \u001b[38;5;28mprint\u001b[39m(\u001b[33m\"\u001b[39m\u001b[33mAdjacency Matrix:\u001b[39m\u001b[38;5;130;01m\\n\u001b[39;00m\u001b[33m\"\u001b[39m, G_undir.graph.get_adjacency_matrix())\n",
      "\u001b[31mAttributeError\u001b[39m: 'DiGraph' object has no attribute 'get_nodes'"
     ]
    }
   ],
   "source": [
    "V = tuple(range(5))\n",
    "E = [(0, 1), (1, 2), (2, 3), (3, 4), (4, 0), (1, 0), (2, 1), (3, 2), (4, 3), (0, 4)]\n",
    "A = np.array([[0, 1, 0, 0, 1],\n",
    "              [1, 0, 1, 0, 0],\n",
    "              [0, 1, 0, 1, 0],\n",
    "              [0, 0, 1, 0, 1],\n",
    "              [1, 0, 0, 1, 0]])\n",
    "G_undir = DiGraph(V, E, A)\n",
    "print(\"Undirected Graph:\")\n",
    "print(\"Nodes:\", G_undir.graph.get_nodes())\n",
    "print(\"Edges:\", G_undir.graph.get_edges())\n",
    "print(\"Adjacency Matrix:\\n\", G_undir.graph.get_adjacency_matrix())"
   ]
  },
  {
   "cell_type": "code",
   "execution_count": null,
   "id": "7146a7f9",
   "metadata": {},
   "outputs": [
    {
     "name": "stdout",
     "output_type": "stream",
     "text": [
      "{}\n"
     ]
    }
   ],
   "source": []
  },
  {
   "cell_type": "code",
   "execution_count": null,
   "id": "8b257510",
   "metadata": {},
   "outputs": [],
   "source": []
  }
 ],
 "metadata": {
  "kernelspec": {
   "display_name": "dummy-consensus",
   "language": "python",
   "name": "python3"
  },
  "language_info": {
   "codemirror_mode": {
    "name": "ipython",
    "version": 3
   },
   "file_extension": ".py",
   "mimetype": "text/x-python",
   "name": "python",
   "nbconvert_exporter": "python",
   "pygments_lexer": "ipython3",
   "version": "3.12.3"
  }
 },
 "nbformat": 4,
 "nbformat_minor": 5
}
