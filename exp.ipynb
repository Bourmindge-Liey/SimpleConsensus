{
 "cells": [
  {
   "cell_type": "markdown",
   "id": "3f6ccc14",
   "metadata": {},
   "source": [
    "# Consensus Simulation"
   ]
  },
  {
   "cell_type": "code",
   "execution_count": 1,
   "id": "6f681240",
   "metadata": {},
   "outputs": [],
   "source": [
    "from graph import *"
   ]
  },
  {
   "cell_type": "markdown",
   "id": "76d52a17",
   "metadata": {},
   "source": [
    "# 1. Graph Construction"
   ]
  },
  {
   "cell_type": "code",
   "execution_count": 2,
   "id": "fe01cf51",
   "metadata": {},
   "outputs": [
    {
     "name": "stdout",
     "output_type": "stream",
     "text": [
      "Number of nodes: 5\n",
      "[0, 1, 2, 3, 4]\n",
      "Number of edges: 10\n",
      "[(0, 1), (0, 4), (1, 2), (1, 0), (2, 3), (2, 1), (3, 4), (3, 2), (4, 0), (4, 3)]\n",
      "Adjacency matrix:\n",
      "[[0 1 0 0 1]\n",
      " [1 0 1 0 0]\n",
      " [0 1 0 1 0]\n",
      " [0 0 1 0 1]\n",
      " [1 0 0 1 0]]\n"
     ]
    }
   ],
   "source": [
    "V = tuple(range(5))\n",
    "E = [(0, 1), (1, 2), (2, 3), (3, 4), (4, 0), (1, 0), (2, 1), (3, 2), (4, 3), (0, 4)]\n",
    "A = np.array([[0, 1, 0, 0, 1],\n",
    "              [1, 0, 1, 0, 0],\n",
    "              [0, 1, 0, 1, 0],\n",
    "              [0, 0, 1, 0, 1],\n",
    "              [1, 0, 0, 1, 0]])\n",
    "G_dir = DiGraph(V, E, A)\n",
    "\n",
    "print(f\"Number of nodes: {G_dir.graph.number_of_nodes()}\")\n",
    "print(f\"{G_dir.graph.nodes()}\")\n",
    "print(f\"Number of edges: {G_dir.graph.number_of_edges()}\")\n",
    "print(f\"{G_dir.graph.edges()}\")\n",
    "print(f\"Adjacency matrix:\\n{G_dir.adj}\")"
   ]
  },
  {
   "cell_type": "code",
   "execution_count": 3,
   "id": "7146a7f9",
   "metadata": {},
   "outputs": [
    {
     "name": "stdout",
     "output_type": "stream",
     "text": [
      "Number of nodes: 5\n",
      "[0, 1, 2, 3, 4]\n",
      "Number of edges: 5\n",
      "[(0, 1), (0, 4), (1, 2), (2, 3), (3, 4)]\n",
      "Adjacency matrix:\n",
      "[[0. 1. 0. 0. 1.]\n",
      " [1. 0. 1. 0. 0.]\n",
      " [0. 1. 0. 1. 0.]\n",
      " [0. 0. 1. 0. 1.]\n",
      " [1. 0. 0. 1. 0.]]\n"
     ]
    }
   ],
   "source": [
    "V = tuple(range(5))\n",
    "E = [(0, 1), (1, 2), (2, 3), (3, 4), (4, 0)]\n",
    "G_undir = UnDiGraph(V, E)\n",
    "\n",
    "print(f\"Number of nodes: {G_undir.graph.number_of_nodes()}\")\n",
    "print(f\"{G_undir.graph.nodes()}\")\n",
    "print(f\"Number of edges: {G_undir.graph.number_of_edges()}\")\n",
    "print(f\"{G_undir.graph.edges()}\")\n",
    "print(f\"Adjacency matrix:\\n{G_undir.adj}\")"
   ]
  },
  {
   "cell_type": "markdown",
   "id": "a8cd62fb",
   "metadata": {},
   "source": [
    "# 2. Laplacian Construction"
   ]
  },
  {
   "cell_type": "code",
   "execution_count": null,
   "id": "8b257510",
   "metadata": {},
   "outputs": [
    {
     "ename": "AttributeError",
     "evalue": "'Graph' object has no attribute 'in_degree'",
     "output_type": "error",
     "traceback": [
      "\u001b[31m---------------------------------------------------------------------------\u001b[39m",
      "\u001b[31mAttributeError\u001b[39m                            Traceback (most recent call last)",
      "\u001b[36mCell\u001b[39m\u001b[36m \u001b[39m\u001b[32mIn[10]\u001b[39m\u001b[32m, line 1\u001b[39m\n\u001b[32m----> \u001b[39m\u001b[32m1\u001b[39m \u001b[38;5;28mprint\u001b[39m(\u001b[43mG_undir\u001b[49m\u001b[43m.\u001b[49m\u001b[43mgraph\u001b[49m\u001b[43m.\u001b[49m\u001b[43min_degree\u001b[49m)\n",
      "\u001b[31mAttributeError\u001b[39m: 'Graph' object has no attribute 'in_degree'"
     ]
    }
   ],
   "source": []
  },
  {
   "cell_type": "markdown",
   "id": "6779c82f",
   "metadata": {},
   "source": [
    "# 3. Consensus"
   ]
  },
  {
   "cell_type": "code",
   "execution_count": null,
   "id": "6d16beb4",
   "metadata": {},
   "outputs": [],
   "source": []
  }
 ],
 "metadata": {
  "kernelspec": {
   "display_name": "dummy-consensus",
   "language": "python",
   "name": "python3"
  },
  "language_info": {
   "codemirror_mode": {
    "name": "ipython",
    "version": 3
   },
   "file_extension": ".py",
   "mimetype": "text/x-python",
   "name": "python",
   "nbconvert_exporter": "python",
   "pygments_lexer": "ipython3",
   "version": "3.12.3"
  }
 },
 "nbformat": 4,
 "nbformat_minor": 5
}
